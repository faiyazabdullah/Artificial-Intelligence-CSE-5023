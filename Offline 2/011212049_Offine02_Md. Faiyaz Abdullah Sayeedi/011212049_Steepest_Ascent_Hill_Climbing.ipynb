{
  "nbformat": 4,
  "nbformat_minor": 0,
  "metadata": {
    "colab": {
      "provenance": []
    },
    "kernelspec": {
      "name": "python3",
      "display_name": "Python 3"
    },
    "language_info": {
      "name": "python"
    }
  },
  "cells": [
    {
      "cell_type": "code",
      "execution_count": 21,
      "metadata": {
        "id": "j1sE8x4DBovw"
      },
      "outputs": [],
      "source": [
        "import numpy as np\n",
        "\n",
        "class Queen:\n",
        "    def __init__(self, N):\n",
        "        self.N = N\n",
        "        self.queen_loc = dict()\n",
        "        self.initialize = False\n",
        "        self.chess_board = [[0]*self.N for _ in range(self.N)]\n",
        "\n",
        "    def add_queen(self):\n",
        "        if self.initialize == False:\n",
        "            number_Q = 0\n",
        "            while True:\n",
        "                flag = 0\n",
        "                r = np.random.randint(self.N)\n",
        "                c = np.random.randint(self.N)\n",
        "                for q in self.queen_loc:\n",
        "                    row, col = self.queen_loc[q]\n",
        "                    if (r==row and c==col) or (c==col):\n",
        "                        flag = 1\n",
        "                if flag == 0:\n",
        "                    Q = f\"Q{number_Q}\"\n",
        "                    if Q not in self.queen_loc:\n",
        "                        self.queen_loc[Q] = []\n",
        "                    self.queen_loc[Q].append(r)\n",
        "                    self.queen_loc[Q].append(c)\n",
        "                    self.chess_board[r][c] = Q\n",
        "                    number_Q += 1\n",
        "                if number_Q == self.N:\n",
        "                    break\n",
        "            self.initialize = True\n",
        "\n",
        "    def get_neighbor(self, row, col):\n",
        "        neighbor = []\n",
        "        if 0<=row-1<self.N and self.chess_board[row-1][col]==0:\n",
        "            neighbor.append([row-1,col])\n",
        "        if 0<=row+1<self.N and self.chess_board[row+1][col]==0:\n",
        "            neighbor.append([row+1,col])\n",
        "        return neighbor\n",
        "\n",
        "    def print_Queen(self):\n",
        "        print(self.chess_board)\n",
        "        for Q in self.queen_loc:\n",
        "            print(f'{Q}->{self.queen_loc[Q]}')"
      ]
    },
    {
      "cell_type": "code",
      "source": [
        "def conflict(r1,c1,r2,c2):\n",
        "    if r1 == r2:\n",
        "        return True\n",
        "    if c1 == c2:\n",
        "        return True\n",
        "    if r1+c1 == r2+c2:\n",
        "        return True\n",
        "    if r1-c1 == r2-c2:\n",
        "        return True\n",
        "    return False"
      ],
      "metadata": {
        "id": "PTzRB4Pg48w1"
      },
      "execution_count": 22,
      "outputs": []
    },
    {
      "cell_type": "code",
      "source": [
        "def get_conflict(Q,state):\n",
        "    count = 0\n",
        "    for q in state:\n",
        "        if q is not  Q:\n",
        "            r1, c1 = state[Q]\n",
        "            r2, c2 = state[q]\n",
        "            if conflict(r1,c1,r2,c2):\n",
        "                count += 1\n",
        "    return count"
      ],
      "metadata": {
        "id": "0obAsY-O49m-"
      },
      "execution_count": 23,
      "outputs": []
    },
    {
      "cell_type": "code",
      "source": [
        "def calc_cost(state):\n",
        "    cost = 0\n",
        "    max = -999\n",
        "    maxQ = None\n",
        "    for Q in state:\n",
        "        q_cost = get_conflict(Q,state)\n",
        "        cost += q_cost\n",
        "        if q_cost>max:\n",
        "            max = q_cost\n",
        "            maxQ = Q\n",
        "    return cost//2,max,maxQ"
      ],
      "metadata": {
        "id": "EprOQ6VX5BME"
      },
      "execution_count": 24,
      "outputs": []
    },
    {
      "cell_type": "code",
      "source": [
        "def goal_test(state):\n",
        "    if calc_cost(state)[0] == 0:\n",
        "        return True\n",
        "    else:\n",
        "        return False"
      ],
      "metadata": {
        "id": "2MsfIynV5Dx3"
      },
      "execution_count": 31,
      "outputs": []
    },
    {
      "cell_type": "code",
      "source": [
        "def steepest_ascent_hill_climbing(board):\n",
        "\n",
        "    current_state = board.queen_loc.copy()\n",
        "\n",
        "    while True:\n",
        "        neighbors = []\n",
        "        for col in current_state:\n",
        "            row_pos, col_pos = current_state[col]\n",
        "            for new_pos in board.get_neighbor(row_pos, col_pos):\n",
        "                new_state = current_state.copy()\n",
        "                new_state[col] = new_pos\n",
        "                neighbors.append((new_state, calc_cost(new_state)[0]))\n",
        "\n",
        "        if not neighbors:\n",
        "            break\n",
        "\n",
        "        neighbors.sort(key=lambda x: x[1])\n",
        "\n",
        "        if neighbors[0][1] >= calc_cost(current_state)[0]:\n",
        "            break\n",
        "        current_state = neighbors[0][0]\n",
        "    return current_state"
      ],
      "metadata": {
        "id": "3SmVU4YGGLUf"
      },
      "execution_count": 32,
      "outputs": []
    },
    {
      "cell_type": "code",
      "source": [
        "queen = Queen(4)\n",
        "queen.add_queen()\n",
        "queen.print_Queen()\n",
        "\n",
        "solution = steepest_ascent_hill_climbing(queen)\n",
        "print(\"\\nSolution:\")\n",
        "for Q in solution:\n",
        "    print(f'{Q}->{solution[Q]}')"
      ],
      "metadata": {
        "colab": {
          "base_uri": "https://localhost:8080/"
        },
        "id": "oiIkHkOu5SjZ",
        "outputId": "aa521dc5-6037-4b14-c62d-e82eae0a65de"
      },
      "execution_count": 33,
      "outputs": [
        {
          "output_type": "stream",
          "name": "stdout",
          "text": [
            "[[0, 0, 0, 0], [0, 0, 0, 0], [0, 'Q2', 0, 'Q3'], ['Q1', 0, 'Q0', 0]]\n",
            "Q0->[3, 2]\n",
            "Q1->[3, 0]\n",
            "Q2->[2, 1]\n",
            "Q3->[2, 3]\n",
            "\n",
            "Solution:\n",
            "Q0->[3, 2]\n",
            "Q1->[3, 0]\n",
            "Q2->[1, 1]\n",
            "Q3->[2, 3]\n"
          ]
        }
      ]
    }
  ]
}
{
  "nbformat": 4,
  "nbformat_minor": 0,
  "metadata": {
    "colab": {
      "provenance": []
    },
    "kernelspec": {
      "name": "python3",
      "display_name": "Python 3"
    },
    "language_info": {
      "name": "python"
    }
  },
  "cells": [
    {
      "cell_type": "code",
      "execution_count": 1,
      "metadata": {
        "colab": {
          "base_uri": "https://localhost:8080/"
        },
        "id": "j1sE8x4DBovw",
        "outputId": "5402e83f-65d6-475f-af65-f45f53d6996b"
      },
      "outputs": [
        {
          "output_type": "stream",
          "name": "stdout",
          "text": [
            "[[0, 0, 0, 0], [0, 0, 0, 'Q2'], [0, 0, 'Q3', 0], ['Q0', 'Q1', 0, 0]]\n",
            "Q0->[3, 0]\n",
            "Q1->[3, 1]\n",
            "Q2->[1, 3]\n",
            "Q3->[2, 2]\n",
            "Solution:\n",
            "Q0->[3, 0]\n",
            "Q1->[2, 1]\n",
            "Q2->[1, 3]\n",
            "Q3->[2, 2]\n"
          ]
        }
      ],
      "source": [
        "import numpy as np\n",
        "\n",
        "class Queen:\n",
        "    def __init__(self, N):\n",
        "        self.N = N\n",
        "        self.queen_loc = dict()\n",
        "        self.initialize = False\n",
        "        self.chess_board = [[0]*self.N for _ in range(self.N)]\n",
        "\n",
        "    def add_queen(self):\n",
        "        if self.initialize == False:\n",
        "            number_Q = 0\n",
        "            while True:\n",
        "                flag = 0\n",
        "                r = np.random.randint(self.N)\n",
        "                c = np.random.randint(self.N)\n",
        "                for q in self.queen_loc:\n",
        "                    row, col = self.queen_loc[q]\n",
        "                    if (r==row and c==col) or (c==col):\n",
        "                        flag = 1\n",
        "                if flag == 0:\n",
        "                    Q = f\"Q{number_Q}\"\n",
        "                    if Q not in self.queen_loc:\n",
        "                        self.queen_loc[Q] = []\n",
        "                    self.queen_loc[Q].append(r)\n",
        "                    self.queen_loc[Q].append(c)\n",
        "                    self.chess_board[r][c] = Q\n",
        "                    number_Q += 1\n",
        "                if number_Q == self.N:\n",
        "                    break\n",
        "            self.initialize = True\n",
        "\n",
        "    def get_neighbor(self, row, col):\n",
        "        neighbor = []\n",
        "        if 0<=row-1<self.N and self.chess_board[row-1][col]==0:\n",
        "            neighbor.append([row-1,col])\n",
        "        if 0<=row+1<self.N and self.chess_board[row+1][col]==0:\n",
        "            neighbor.append([row+1,col])\n",
        "        return neighbor\n",
        "\n",
        "    def print_Queen(self):\n",
        "        print(self.chess_board)\n",
        "        for Q in self.queen_loc:\n",
        "            print(f'{Q}->{self.queen_loc[Q]}')\n",
        "\n",
        "def conflict(r1,c1,r2,c2):\n",
        "    if r1 == r2:\n",
        "        return True\n",
        "    if c1 == c2:\n",
        "        return True\n",
        "    if r1+c1 == r2+c2:\n",
        "        return True\n",
        "    if r1-c1 == r2-c2:\n",
        "        return True\n",
        "    return False\n",
        "\n",
        "def get_conflict(Q,state):\n",
        "    count = 0\n",
        "    for q in state:\n",
        "        if q is not  Q:\n",
        "            r1, c1 = state[Q]\n",
        "            r2, c2 = state[q]\n",
        "            if conflict(r1,c1,r2,c2):\n",
        "                count += 1\n",
        "    return count\n",
        "\n",
        "def calc_cost(state):\n",
        "    cost = 0\n",
        "    max = -999\n",
        "    maxQ = None\n",
        "    for Q in state:\n",
        "        q_cost = get_conflict(Q,state)\n",
        "        cost += q_cost\n",
        "        if q_cost>max:\n",
        "            max = q_cost\n",
        "            maxQ = Q\n",
        "    return cost//2,max,maxQ\n",
        "\n",
        "def goal_test(state):\n",
        "    if calc_cost(state)[0] == 0:\n",
        "        return True\n",
        "    else:\n",
        "        return False"
      ]
    },
    {
      "cell_type": "code",
      "source": [
        "def hill_climbing(queen):\n",
        "    current_state = queen.queen_loc.copy()\n",
        "    while True:\n",
        "        neighbors = []\n",
        "        for Q in current_state:\n",
        "            r, c = current_state[Q]\n",
        "            for new_pos in queen.get_neighbor(r, c):\n",
        "                new_state = current_state.copy()\n",
        "                new_state[Q] = new_pos\n",
        "                neighbors.append((new_state, calc_cost(new_state)[0]))\n",
        "        if not neighbors: # reached a local maximum - the get_neighbor function returned an empty list\n",
        "            break\n",
        "        neighbors.sort(key=lambda x: x[1]) # sorts the list of neighbors\n",
        "        if neighbors[0][1] >= calc_cost(current_state)[0]: # reached a local maximum - the next state is worse\n",
        "            break\n",
        "        current_state = neighbors[0][0] # lowest heuristics\n",
        "    return current_state\n",
        "\n",
        "# Main Code\n",
        "queen = Queen(4)\n",
        "queen.add_queen()\n",
        "queen.print_Queen()\n",
        "\n",
        "solution = hill_climbing(queen)\n",
        "print(\"Solution:\")\n",
        "for Q in solution:\n",
        "    print(f'{Q}->{solution[Q]}')"
      ],
      "metadata": {
        "colab": {
          "base_uri": "https://localhost:8080/"
        },
        "id": "3SmVU4YGGLUf",
        "outputId": "ed8dbdc1-b589-41fb-fc7d-6e110ef015c6"
      },
      "execution_count": 7,
      "outputs": [
        {
          "output_type": "stream",
          "name": "stdout",
          "text": [
            "[[0, 0, 0, 'Q0'], [0, 0, 0, 0], [0, 'Q3', 0, 0], ['Q2', 0, 'Q1', 0]]\n",
            "Q0->[0, 3]\n",
            "Q1->[3, 2]\n",
            "Q2->[3, 0]\n",
            "Q3->[2, 1]\n",
            "Solution:\n",
            "Q0->[0, 3]\n",
            "Q1->[3, 2]\n",
            "Q2->[2, 0]\n",
            "Q3->[1, 1]\n"
          ]
        }
      ]
    }
  ]
}
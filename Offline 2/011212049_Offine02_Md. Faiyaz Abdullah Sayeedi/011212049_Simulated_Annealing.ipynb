{
  "nbformat": 4,
  "nbformat_minor": 0,
  "metadata": {
    "colab": {
      "provenance": []
    },
    "kernelspec": {
      "name": "python3",
      "display_name": "Python 3"
    },
    "language_info": {
      "name": "python"
    }
  },
  "cells": [
    {
      "cell_type": "code",
      "execution_count": 53,
      "metadata": {
        "id": "UxBYYjbLBwSH"
      },
      "outputs": [],
      "source": [
        "import numpy as np\n",
        "\n",
        "class Queen:\n",
        "    def __init__(self, N):\n",
        "        self.N = N\n",
        "        self.queen_loc = dict()\n",
        "        self.initialize = False\n",
        "        self.chess_board = [[0]*self.N for _ in range(self.N)]\n",
        "\n",
        "    def add_queen(self):\n",
        "        if self.initialize == False:\n",
        "            number_Q = 0\n",
        "            while True:\n",
        "                flag = 0\n",
        "                r = np.random.randint(self.N)\n",
        "                c = np.random.randint(self.N)\n",
        "                for q in self.queen_loc:\n",
        "                    row, col = self.queen_loc[q]\n",
        "                    if (r==row and c==col) or (c==col):\n",
        "                        flag = 1\n",
        "                if flag == 0:\n",
        "                    Q = f\"Q{number_Q}\"\n",
        "                    if Q not in self.queen_loc:\n",
        "                        self.queen_loc[Q] = []\n",
        "                    self.queen_loc[Q].append(r)\n",
        "                    self.queen_loc[Q].append(c)\n",
        "                    self.chess_board[r][c] = Q\n",
        "                    number_Q += 1\n",
        "                if number_Q == self.N:\n",
        "                    break\n",
        "            self.initialize = True\n",
        "\n",
        "    def get_neighbor(self, row, col):\n",
        "        neighbor = []\n",
        "        if 0<=row-1<self.N and self.chess_board[row-1][col]==0:\n",
        "            neighbor.append([row-1,col])\n",
        "        if 0<=row+1<self.N and self.chess_board[row+1][col]==0:\n",
        "            neighbor.append([row+1,col])\n",
        "        return neighbor\n",
        "\n",
        "    def print_Queen(self):\n",
        "        print(self.chess_board)\n",
        "        for Q in self.queen_loc:\n",
        "            print(f'{Q}->{self.queen_loc[Q]}')"
      ]
    },
    {
      "cell_type": "code",
      "source": [
        "def conflict(r1,c1,r2,c2):\n",
        "    if r1 == r2:\n",
        "        return True\n",
        "    if c1 == c2:\n",
        "        return True\n",
        "    if r1+c1 == r2+c2:\n",
        "        return True\n",
        "    if r1-c1 == r2-c2:\n",
        "        return True\n",
        "    return False"
      ],
      "metadata": {
        "id": "Q4dLv6Ra0wk0"
      },
      "execution_count": 54,
      "outputs": []
    },
    {
      "cell_type": "code",
      "source": [
        "def get_conflict(Q,state):\n",
        "    count = 0\n",
        "    for q in state:\n",
        "        if q is not  Q:\n",
        "            r1, c1 = state[Q]\n",
        "            r2, c2 = state[q]\n",
        "            if conflict(r1,c1,r2,c2):\n",
        "                count += 1\n",
        "    return count"
      ],
      "metadata": {
        "id": "n2DFWOCD0z5B"
      },
      "execution_count": 55,
      "outputs": []
    },
    {
      "cell_type": "code",
      "source": [
        "def calc_cost(state):\n",
        "    cost = 0\n",
        "    max = -999\n",
        "    maxQ = None\n",
        "    for Q in state:\n",
        "        q_cost = get_conflict(Q,state)\n",
        "        cost += q_cost\n",
        "        if q_cost>max:\n",
        "            max = q_cost\n",
        "            maxQ = Q\n",
        "    return cost//2,max,maxQ"
      ],
      "metadata": {
        "id": "AJ4z73SL01_Z"
      },
      "execution_count": 56,
      "outputs": []
    },
    {
      "cell_type": "code",
      "source": [
        "def goal_test(state):\n",
        "    if calc_cost(state)[0] == 0:\n",
        "        return True\n",
        "    else:\n",
        "        return False"
      ],
      "metadata": {
        "id": "7sRML28a048E"
      },
      "execution_count": 57,
      "outputs": []
    },
    {
      "cell_type": "code",
      "source": [
        "from re import X\n",
        "\n",
        "def simulated_annealing(board, temperature, reduction_rate):\n",
        "\n",
        "    current_state = board.queen_loc.copy()\n",
        "    stop_taking_bad_moves = 0.001\n",
        "\n",
        "    while temperature > stop_taking_bad_moves:\n",
        "        neighbors = []\n",
        "        for x in current_state:\n",
        "            r, c = current_state[x]\n",
        "            for new_pos in board.get_neighbor(r, c):\n",
        "                new_state = current_state.copy()\n",
        "                new_state[x] = new_pos\n",
        "                neighbors.append((new_state, calc_cost(new_state)[0]))\n",
        "        if not neighbors:\n",
        "            break\n",
        "        neighbors.sort(key=lambda x: x[1])\n",
        "        next_state = neighbors[0][0]\n",
        "        delta_E = calc_cost(next_state)[0] - calc_cost(current_state)[0]\n",
        "        if delta_E < 0 or np.random.uniform(0, 1) < np.exp(-delta_E / temperature):\n",
        "            current_state = next_state\n",
        "        temperature *= reduction_rate\n",
        "    return current_state"
      ],
      "metadata": {
        "id": "LM60FTj9B4Rv"
      },
      "execution_count": 58,
      "outputs": []
    },
    {
      "cell_type": "code",
      "source": [
        "queen = Queen(4)\n",
        "queen.add_queen()\n",
        "queen.print_Queen()\n",
        "\n",
        "temperature = 1000\n",
        "reduction_rate = 0.99\n",
        "\n",
        "result = simulated_annealing(queen, temperature, reduction_rate)\n",
        "\n",
        "print(\"\\nSolution:\")\n",
        "for x in result:\n",
        "    print(f'{x}->{result[x]}')"
      ],
      "metadata": {
        "colab": {
          "base_uri": "https://localhost:8080/"
        },
        "id": "aSMPxQj30kFM",
        "outputId": "a8d68b8c-d23e-45e4-8adb-fd23c6d1bf47"
      },
      "execution_count": 59,
      "outputs": [
        {
          "output_type": "stream",
          "name": "stdout",
          "text": [
            "[[0, 0, 0, 0], [0, 'Q3', 0, 0], ['Q1', 0, 'Q2', 'Q0'], [0, 0, 0, 0]]\n",
            "Q0->[2, 3]\n",
            "Q1->[2, 0]\n",
            "Q2->[2, 2]\n",
            "Q3->[1, 1]\n",
            "\n",
            "Solution:\n",
            "Q0->[1, 3]\n",
            "Q1->[3, 0]\n",
            "Q2->[3, 2]\n",
            "Q3->[0, 1]\n"
          ]
        }
      ]
    }
  ]
}
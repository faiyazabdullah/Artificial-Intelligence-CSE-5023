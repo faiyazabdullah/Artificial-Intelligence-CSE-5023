{
  "cells": [
    {
      "attachments": {},
      "cell_type": "markdown",
      "metadata": {
        "id": "pH6gOTpiXxrT"
      },
      "source": [
        "## Variable Declaration"
      ]
    },
    {
      "cell_type": "code",
      "execution_count": 1,
      "metadata": {
        "colab": {
          "base_uri": "https://localhost:8080/"
        },
        "id": "mU-eYSFBPRnK",
        "outputId": "7977007e-fb5a-47cd-8eec-5fa7d5af3fa9"
      },
      "outputs": [
        {
          "name": "stdout",
          "output_type": "stream",
          "text": [
            "Hello World\n"
          ]
        }
      ],
      "source": [
        "print(\"Hello World\")"
      ]
    },
    {
      "cell_type": "code",
      "execution_count": 4,
      "metadata": {
        "id": "xpcBh_-fTehE"
      },
      "outputs": [],
      "source": [
        "StudentID = 112310052\n",
        "student_name = 'Nayem'\n",
        "student_cgpa = 3.5\n",
        "is_eligible = True\n",
        "message = \"\"\"Hello There,\n",
        "Assalamu alaikum. I hope this mail find you well.\n",
        "Welcome to our AI lab \"\"\""
      ]
    },
    {
      "cell_type": "code",
      "execution_count": 5,
      "metadata": {
        "colab": {
          "base_uri": "https://localhost:8080/"
        },
        "id": "zoOHY69jUuEt",
        "outputId": "3d32ca13-a7a1-4057-93b7-8f59a749a0c1"
      },
      "outputs": [
        {
          "name": "stdout",
          "output_type": "stream",
          "text": [
            "Nayem\n",
            "3.5\n",
            "True\n",
            "112310052\n",
            "Hello There,\n",
            "Assalamu alaikum. I hope this mail find you well.\n",
            "Welcome to our AI lab \n"
          ]
        }
      ],
      "source": [
        "print(student_name)\n",
        "print(student_cgpa)\n",
        "print(is_eligible)\n",
        "print(StudentID)\n",
        "print(message)"
      ]
    },
    {
      "cell_type": "code",
      "execution_count": null,
      "metadata": {
        "colab": {
          "base_uri": "https://localhost:8080/"
        },
        "id": "AnbBOJ-8U6-H",
        "outputId": "e6504820-ff66-43b4-dc8b-9c12df931f44"
      },
      "outputs": [
        {
          "name": "stdout",
          "output_type": "stream",
          "text": [
            "<class 'int'>\n",
            "<class 'str'>\n"
          ]
        }
      ],
      "source": [
        "print(type(StudentID))\n",
        "print(type(student_name))"
      ]
    },
    {
      "cell_type": "code",
      "execution_count": null,
      "metadata": {
        "id": "6Ltb36wWV1rb"
      },
      "outputs": [],
      "source": [
        "x = 3\n",
        "y = 3.5\n",
        "z = 3+2j"
      ]
    },
    {
      "cell_type": "code",
      "execution_count": null,
      "metadata": {
        "colab": {
          "base_uri": "https://localhost:8080/"
        },
        "id": "OXDYrvb9YCh6",
        "outputId": "7465784c-fdc1-4275-fc5e-e923f22cba4c"
      },
      "outputs": [
        {
          "name": "stdout",
          "output_type": "stream",
          "text": [
            "(3+2j)\n"
          ]
        }
      ],
      "source": [
        "print(z)"
      ]
    },
    {
      "attachments": {},
      "cell_type": "markdown",
      "metadata": {
        "id": "TRXhna1rYpn5"
      },
      "source": [
        "### taking Input"
      ]
    },
    {
      "cell_type": "code",
      "execution_count": null,
      "metadata": {
        "colab": {
          "base_uri": "https://localhost:8080/"
        },
        "id": "KFgPdA80YcRh",
        "outputId": "79e9ad36-17c7-4490-cf30-480fac329e02"
      },
      "outputs": [
        {
          "name": "stdout",
          "output_type": "stream",
          "text": [
            "Enter a number:5\n"
          ]
        }
      ],
      "source": [
        "a = int(input(\"Enter a number:\"))"
      ]
    },
    {
      "cell_type": "code",
      "execution_count": null,
      "metadata": {
        "colab": {
          "base_uri": "https://localhost:8080/"
        },
        "id": "eOkydpQFYyFh",
        "outputId": "2d267ebd-16d8-467c-b673-44d11f5da280"
      },
      "outputs": [
        {
          "name": "stdout",
          "output_type": "stream",
          "text": [
            "5\n"
          ]
        }
      ],
      "source": [
        "print(a)"
      ]
    },
    {
      "cell_type": "code",
      "execution_count": null,
      "metadata": {
        "colab": {
          "base_uri": "https://localhost:8080/"
        },
        "id": "MsdA8v1eY35R",
        "outputId": "1f31965b-306d-4b53-d9f2-db83cebeb2e2"
      },
      "outputs": [
        {
          "name": "stdout",
          "output_type": "stream",
          "text": [
            "15\n"
          ]
        }
      ],
      "source": [
        "z = a+10\n",
        "print(z)"
      ]
    },
    {
      "attachments": {},
      "cell_type": "markdown",
      "metadata": {
        "id": "3MISs08JaCN5"
      },
      "source": [
        "##String\n"
      ]
    },
    {
      "cell_type": "code",
      "execution_count": null,
      "metadata": {
        "colab": {
          "base_uri": "https://localhost:8080/"
        },
        "id": "CUQbXb7MZZ-B",
        "outputId": "18769414-9b0d-4475-f2f3-5f24f1142a88"
      },
      "outputs": [
        {
          "name": "stdout",
          "output_type": "stream",
          "text": [
            "18\n",
            "n\n",
            "tho\n",
            "Pytho\n",
            "n Programming\n"
          ]
        }
      ],
      "source": [
        "message = \"Python Programming\"\n",
        "print(len(message)) #string length\n",
        "print(message[-2]) # negative index can access reverse\n",
        "print(message[2:5])\n",
        "print(message[:5])\n",
        "print(message[5:])"
      ]
    },
    {
      "cell_type": "code",
      "execution_count": null,
      "metadata": {
        "colab": {
          "base_uri": "https://localhost:8080/"
        },
        "id": "zvn0gDMQaW9o",
        "outputId": "c9b39519-4ee4-42d2-bf0d-87d1fb58b1c2"
      },
      "outputs": [
        {
          "name": "stdout",
          "output_type": "stream",
          "text": [
            "PYTHON PROGRAMMING\n",
            "-1\n",
            "Jython Jrogramming\n"
          ]
        }
      ],
      "source": [
        "print(message.upper())\n",
        "print(message.find(\"pro\"))\n",
        "print(message.replace(\"P\",\"J\"))"
      ]
    },
    {
      "attachments": {},
      "cell_type": "markdown",
      "metadata": {
        "id": "IMIcqOlJdTBf"
      },
      "source": [
        "## Operator\n",
        "1. Arithmatic\n",
        "2. Logical\n",
        "3. Relational\n",
        "4. Shorthand"
      ]
    },
    {
      "cell_type": "code",
      "execution_count": null,
      "metadata": {
        "colab": {
          "base_uri": "https://localhost:8080/"
        },
        "id": "nMvp6qlRcUD_",
        "outputId": "e98fd26e-37a6-41e5-e903-6bfd58ecb99c"
      },
      "outputs": [
        {
          "name": "stdout",
          "output_type": "stream",
          "text": [
            "16\n",
            "6\n",
            "55\n",
            "2.2\n",
            "1\n",
            "161051\n",
            "2\n"
          ]
        }
      ],
      "source": [
        "# Arithmatic Operator\n",
        "x = 11\n",
        "y = 5\n",
        "print(x+y)\n",
        "print(x-y)\n",
        "print(x*y)\n",
        "print(x/y)\n",
        "print(x%y)\n",
        "print(x**y)\n",
        "print(x//y)"
      ]
    },
    {
      "cell_type": "code",
      "execution_count": null,
      "metadata": {
        "colab": {
          "base_uri": "https://localhost:8080/"
        },
        "id": "CQihW83bdzxt",
        "outputId": "32cec6c4-f406-44ec-9529-f5803a9e6e58"
      },
      "outputs": [
        {
          "name": "stdout",
          "output_type": "stream",
          "text": [
            "Enter a number:563\n"
          ]
        }
      ],
      "source": [
        "number = int(input(\"Enter a number:\"))"
      ]
    },
    {
      "cell_type": "code",
      "execution_count": null,
      "metadata": {
        "id": "1NIuuDLYgxa8"
      },
      "outputs": [],
      "source": [
        "rev = 0"
      ]
    },
    {
      "cell_type": "code",
      "execution_count": null,
      "metadata": {
        "colab": {
          "base_uri": "https://localhost:8080/"
        },
        "id": "zoQkQeWWhUNk",
        "outputId": "4ecf54d5-6249-474b-e07f-9664ff108f43"
      },
      "outputs": [
        {
          "name": "stdout",
          "output_type": "stream",
          "text": [
            "365\n"
          ]
        }
      ],
      "source": [
        "rev = rev*10+number%10\n",
        "number = number//10\n",
        "rev = rev*10+number%10\n",
        "number = number//10\n",
        "rev = rev*10+number\n",
        "print(rev)"
      ]
    },
    {
      "cell_type": "code",
      "execution_count": null,
      "metadata": {
        "colab": {
          "base_uri": "https://localhost:8080/"
        },
        "id": "B609MBn1hp-0",
        "outputId": "1d25e794-7365-497e-ddf3-2ba32d1057be"
      },
      "outputs": [
        {
          "name": "stdout",
          "output_type": "stream",
          "text": [
            "True\n",
            "False\n"
          ]
        }
      ],
      "source": [
        "#Relational Operator-> >,<,>=,<=,==,!=\n",
        "print(2<5)\n",
        "print(2==5)"
      ]
    },
    {
      "cell_type": "code",
      "execution_count": null,
      "metadata": {
        "colab": {
          "base_uri": "https://localhost:8080/"
        },
        "id": "_Kwm2JDdiSab",
        "outputId": "70f90059-415f-48f1-aa0d-9a68f387a06d"
      },
      "outputs": [
        {
          "name": "stdout",
          "output_type": "stream",
          "text": [
            "True\n"
          ]
        }
      ],
      "source": [
        "#Logical Operator-> and, or, not\n",
        "\n",
        "print(2<5 and not 2==5)"
      ]
    },
    {
      "cell_type": "code",
      "execution_count": null,
      "metadata": {
        "id": "OQl9bWv4ilcr"
      },
      "outputs": [],
      "source": [
        "# shorthand assignment Operator-> +=,-=,*=,..."
      ]
    },
    {
      "attachments": {},
      "cell_type": "markdown",
      "metadata": {
        "id": "MyBrtcj6jHxM"
      },
      "source": [
        "## Conditional statement"
      ]
    },
    {
      "cell_type": "code",
      "execution_count": null,
      "metadata": {
        "id": "nmutbYQ9jMsj"
      },
      "outputs": [],
      "source": [
        "gender = 'p'\n",
        "types = \"male\""
      ]
    },
    {
      "cell_type": "code",
      "execution_count": null,
      "metadata": {
        "colab": {
          "base_uri": "https://localhost:8080/"
        },
        "id": "WbOFzBQhjFo7",
        "outputId": "4448a86d-1f9a-4822-964d-878ca0aed6d3"
      },
      "outputs": [
        {
          "name": "stdout",
          "output_type": "stream",
          "text": [
            "Okay\n"
          ]
        }
      ],
      "source": [
        "if gender == 'F' or gender=='f':\n",
        "  print(\"Welcome to our beauty parlor!!!\")\n",
        "elif gender == 'm' and types==\"male\":\n",
        "  print(\"Okay\")\n",
        "else:\n",
        "  print(\"Sorry! you are not allow here.\")"
      ]
    },
    {
      "cell_type": "code",
      "execution_count": null,
      "metadata": {
        "colab": {
          "base_uri": "https://localhost:8080/"
        },
        "id": "68Fe3Hg2jylS",
        "outputId": "f55d9a5b-4332-419d-f4e8-377ede0181c5"
      },
      "outputs": [
        {
          "name": "stdout",
          "output_type": "stream",
          "text": [
            "Not found\n"
          ]
        }
      ],
      "source": [
        "student = \"Rahad Khan\"\n",
        "if 'A' in student:\n",
        "  print(\"Found\")\n",
        "else:\n",
        "  print(\"Not found\")"
      ]
    },
    {
      "cell_type": "code",
      "execution_count": null,
      "metadata": {
        "colab": {
          "base_uri": "https://localhost:8080/"
        },
        "id": "kabWY-VDkrr6",
        "outputId": "2e692166-2978-4f8f-bb38-2ab8d6d259b6"
      },
      "outputs": [
        {
          "name": "stdout",
          "output_type": "stream",
          "text": [
            "i: 1\n",
            "i: 3\n",
            "i: 5\n",
            "i: 7\n",
            "i: 9\n"
          ]
        }
      ],
      "source": [
        "for i in range(1,10,2): #range(start,end,stepsize)\n",
        "  print(f\"i: {i}\")"
      ]
    },
    {
      "cell_type": "code",
      "execution_count": null,
      "metadata": {
        "colab": {
          "base_uri": "https://localhost:8080/"
        },
        "id": "UeExF5jelLch",
        "outputId": "6b79fd90-a739-46e3-841a-32af2842415a"
      },
      "outputs": [
        {
          "name": "stdout",
          "output_type": "stream",
          "text": [
            "**********\n"
          ]
        }
      ],
      "source": [
        "print(\"*\"*10)"
      ]
    },
    {
      "cell_type": "code",
      "execution_count": null,
      "metadata": {
        "colab": {
          "base_uri": "https://localhost:8080/"
        },
        "id": "pPAJE-aGlwP-",
        "outputId": "03db2400-cec4-4453-984e-9c3f29c6f6c6"
      },
      "outputs": [
        {
          "name": "stdout",
          "output_type": "stream",
          "text": [
            "      * \n",
            "     * * \n",
            "    * * * \n",
            "   * * * * \n",
            "  * * * * * \n"
          ]
        }
      ],
      "source": [
        "for i in range(1,6,1):\n",
        "  print(\" \"*(6-i)+\"* \"*i)"
      ]
    },
    {
      "cell_type": "code",
      "execution_count": null,
      "metadata": {
        "id": "7Yhz8nNYl7ae"
      },
      "outputs": [],
      "source": []
    }
  ],
  "metadata": {
    "colab": {
      "provenance": []
    },
    "kernelspec": {
      "display_name": "Python 3",
      "name": "python3"
    },
    "language_info": {
      "codemirror_mode": {
        "name": "ipython",
        "version": 3
      },
      "file_extension": ".py",
      "mimetype": "text/x-python",
      "name": "python",
      "nbconvert_exporter": "python",
      "pygments_lexer": "ipython3",
      "version": "3.10.2"
    }
  },
  "nbformat": 4,
  "nbformat_minor": 0
}

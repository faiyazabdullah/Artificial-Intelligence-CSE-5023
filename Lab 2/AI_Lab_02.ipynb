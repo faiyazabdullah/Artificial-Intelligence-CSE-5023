{
  "cells": [
    {
      "attachments": {},
      "cell_type": "markdown",
      "metadata": {
        "id": "n2N3KBDuIHuk"
      },
      "source": [
        "## Function"
      ]
    },
    {
      "cell_type": "code",
      "execution_count": null,
      "metadata": {
        "colab": {
          "base_uri": "https://localhost:8080/"
        },
        "id": "PRhZjbQDHimp",
        "outputId": "8e4aaec3-10e4-4177-b456-04e5190d9a0f"
      },
      "outputs": [
        {
          "name": "stdout",
          "output_type": "stream",
          "text": [
            "hello 3 4\n",
            "None\n",
            "hello a b\n",
            "None\n"
          ]
        }
      ],
      "source": [
        "# def fn_name(parameter):\n",
        "#   function_body\n",
        "\n",
        "def sum(a, b):\n",
        "  c = a+b\n",
        "  return c\n",
        "\n",
        "print(sum(3,4))\n",
        "print(sum('a','b'))"
      ]
    },
    {
      "cell_type": "code",
      "execution_count": null,
      "metadata": {
        "colab": {
          "base_uri": "https://localhost:8080/"
        },
        "id": "tl2ZGoswIfnS",
        "outputId": "1301dfb1-81a5-48d6-cb96-8a5a4f2f448a"
      },
      "outputs": [
        {
          "name": "stdout",
          "output_type": "stream",
          "text": [
            "Hello  Rashed\n"
          ]
        }
      ],
      "source": [
        "def hello(name):\n",
        "  name = name.capitalize()\n",
        "  print('Hello ',name)\n",
        "\n",
        "hello('rashed')\n",
        "#hello(1)"
      ]
    },
    {
      "cell_type": "code",
      "execution_count": null,
      "metadata": {
        "colab": {
          "base_uri": "https://localhost:8080/"
        },
        "id": "wEvO7ViNI3o_",
        "outputId": "bccafe26-ace8-40ef-9cdb-c057afbf94b3"
      },
      "outputs": [
        {
          "name": "stdout",
          "output_type": "stream",
          "text": [
            "[1, 2, 3, 4, 5, 1, 2, 3, 4, 5]\n",
            "200\n",
            "goodgood\n"
          ]
        }
      ],
      "source": [
        "def test(arr):\n",
        "  return (arr+arr)\n",
        "print(test([1,2,3,4,5]))\n",
        "print(test(100))\n",
        "print(test(\"good\"))"
      ]
    },
    {
      "cell_type": "code",
      "execution_count": null,
      "metadata": {
        "colab": {
          "base_uri": "https://localhost:8080/"
        },
        "id": "ITdvHDg0JLHn",
        "outputId": "cbc61053-543a-4f99-ab2f-ad14da0a97e7"
      },
      "outputs": [
        {
          "name": "stdout",
          "output_type": "stream",
          "text": [
            "min:-1, max:9\n",
            "-1 9\n"
          ]
        }
      ],
      "source": [
        "def minmax(arr):\n",
        "  return min(arr),max(arr)\n",
        "min_, max_ = minmax([1,0,9,8,-1])\n",
        "print(f'min:{min_}, max:{max_}')\n",
        "\n",
        "a = minmax([1,0,9,8,-1])\n",
        "print(a[0],a[1])"
      ]
    },
    {
      "cell_type": "code",
      "execution_count": 1,
      "metadata": {
        "colab": {
          "base_uri": "https://localhost:8080/",
          "height": 135
        },
        "id": "8ZAyWfmEJ1oX",
        "outputId": "718213e9-d156-4cff-d231-2285c5e0f9b4"
      },
      "outputs": [
        {
          "name": "stdout",
          "output_type": "stream",
          "text": [
            "can vote at the age 132\n",
            "True \n",
            "\n",
            "can't vote 31\n",
            "False \n",
            "\n"
          ]
        }
      ],
      "source": [
        "def canvote(is_citizen, age=0):\n",
        "    if not is_citizen:\n",
        "        print(\"can't vote\", age)\n",
        "        return False\n",
        "    if age >= 18:\n",
        "        print(\"can vote at the age\", age)\n",
        "        return True\n",
        "    else:\n",
        "        print(\"can't vote at the age\", age)\n",
        "        return False\n",
        "\n",
        "print(canvote(True, 132), '\\n')\n",
        "print(canvote(False, age=31), '\\n')\n",
        "#print(canvote(), '\\n') # error: missing 1 argument\n",
        "#print(canvote(is_citizen=False, 31), '\\n') # error: positional argument follows keyword argument"
      ]
    },
    {
      "attachments": {},
      "cell_type": "markdown",
      "metadata": {
        "id": "kUOaBUSPKfrc"
      },
      "source": [
        "# Practice on function"
      ]
    },
    {
      "attachments": {},
      "cell_type": "markdown",
      "metadata": {
        "id": "FbTwRvUGYPBL"
      },
      "source": [
        "## Tuple"
      ]
    },
    {
      "cell_type": "code",
      "execution_count": null,
      "metadata": {
        "colab": {
          "base_uri": "https://localhost:8080/"
        },
        "id": "1QSlWZKrYRUM",
        "outputId": "e2319bf4-73e7-423f-eaee-5889443affe4"
      },
      "outputs": [
        {
          "name": "stdout",
          "output_type": "stream",
          "text": [
            "('red', 1, True, 'Yellow', 4.5, 'Yellow')\n",
            "6\n",
            "True\n"
          ]
        }
      ],
      "source": [
        "tuple1 = ('red', 1, True, 'Yellow', 4.5,'Yellow')\n",
        "print(tuple1)\n",
        "print(len(tuple1))\n",
        "print(tuple1[2])"
      ]
    },
    {
      "cell_type": "code",
      "execution_count": null,
      "metadata": {
        "colab": {
          "base_uri": "https://localhost:8080/"
        },
        "id": "VK-wEgmuvPEE",
        "outputId": "b83f79bc-7c6d-4446-daf1-ac9e1edd2b6e"
      },
      "outputs": [
        {
          "name": "stdout",
          "output_type": "stream",
          "text": [
            "found\n"
          ]
        }
      ],
      "source": [
        "if 'red' in tuple1:\n",
        "  print('found')\n",
        "else:\n",
        "  print('Not found')"
      ]
    },
    {
      "cell_type": "code",
      "execution_count": null,
      "metadata": {
        "colab": {
          "base_uri": "https://localhost:8080/"
        },
        "id": "PJ0kWoTKvi9k",
        "outputId": "d46918ff-ce72-415b-f5b9-64acff903247"
      },
      "outputs": [
        {
          "name": "stdout",
          "output_type": "stream",
          "text": [
            "('red', 1, True, 'Yellow', 4.5, 'Yellow', 'Green')\n",
            "('Green',)\n"
          ]
        }
      ],
      "source": [
        "# We can't insert or delete item in a tuple\n",
        "# Rather we can concate two tuple\n",
        "# convert to list then add\n",
        "tuple2 = (\"Green\",)\n",
        "tuple1 += tuple2\n",
        "print(tuple1)\n",
        "print(tuple2)"
      ]
    },
    {
      "cell_type": "code",
      "execution_count": null,
      "metadata": {
        "colab": {
          "base_uri": "https://localhost:8080/"
        },
        "id": "zbWEVmLHkr8g",
        "outputId": "2dcfb09e-f235-4145-d346-38812d0015ab"
      },
      "outputs": [
        {
          "name": "stdout",
          "output_type": "stream",
          "text": [
            "('red', 1, True, 'Yellow', 4.5, 'Yellow', 'Green', 'Magenta')\n"
          ]
        }
      ],
      "source": [
        "x = list(tuple1)\n",
        "x.append('Magenta')\n",
        "tuple1 = tuple(x)\n",
        "print(tuple1)"
      ]
    },
    {
      "cell_type": "code",
      "execution_count": null,
      "metadata": {
        "colab": {
          "base_uri": "https://localhost:8080/"
        },
        "id": "AVgjpttdlSrI",
        "outputId": "b0931c6b-c037-4eba-8e64-92f6f9b783f4"
      },
      "outputs": [
        {
          "name": "stdout",
          "output_type": "stream",
          "text": [
            "[1, 'apple', True] [1, 2]\n"
          ]
        }
      ],
      "source": [
        "thisTuple = (1,\"apple\",True,[1,2])\n",
        "*x, y = thisTuple\n",
        "print(x,y)"
      ]
    },
    {
      "cell_type": "code",
      "execution_count": null,
      "metadata": {
        "colab": {
          "base_uri": "https://localhost:8080/"
        },
        "id": "mrSyzBJFwdai",
        "outputId": "ff79f143-58ba-4539-cb08-09d80c1b9aa8"
      },
      "outputs": [
        {
          "name": "stdout",
          "output_type": "stream",
          "text": [
            "red Magenta\n"
          ]
        }
      ],
      "source": [
        "x,*_,y = tuple1\n",
        "print(x,y)"
      ]
    },
    {
      "cell_type": "code",
      "execution_count": null,
      "metadata": {
        "colab": {
          "base_uri": "https://localhost:8080/"
        },
        "id": "NHNWVm__xWtr",
        "outputId": "b2a1cfc3-8f82-4745-db2c-fa79e754cd6e"
      },
      "outputs": [
        {
          "name": "stdout",
          "output_type": "stream",
          "text": [
            "red\n",
            "1\n",
            "True\n",
            "Yellow\n",
            "4.5\n",
            "Green\n",
            "Green\n"
          ]
        }
      ],
      "source": [
        "for item in tuple1:\n",
        "  print(item)"
      ]
    },
    {
      "cell_type": "code",
      "execution_count": null,
      "metadata": {
        "colab": {
          "base_uri": "https://localhost:8080/"
        },
        "id": "yDvbC5NUxXqN",
        "outputId": "357221ac-88ea-4b9c-f8ef-133d4bde1cce"
      },
      "outputs": [
        {
          "name": "stdout",
          "output_type": "stream",
          "text": [
            "red\n",
            "1\n",
            "True\n",
            "Yellow\n",
            "4.5\n",
            "Green\n",
            "Green\n"
          ]
        }
      ],
      "source": [
        "for item in range(len(tuple1)):\n",
        "  print(tuple1[item])"
      ]
    },
    {
      "attachments": {},
      "cell_type": "markdown",
      "metadata": {
        "id": "Fae-sqiAzJ1r"
      },
      "source": [
        "## Set\n"
      ]
    },
    {
      "cell_type": "code",
      "execution_count": null,
      "metadata": {
        "colab": {
          "base_uri": "https://localhost:8080/"
        },
        "id": "IVgF1-kIzL0Q",
        "outputId": "29dea53b-af6d-4761-fb80-ff907b8251b8"
      },
      "outputs": [
        {
          "name": "stdout",
          "output_type": "stream",
          "text": [
            "{'banana', 'apple', 1}\n"
          ]
        }
      ],
      "source": [
        "set1 = {\"apple\",\"banana\",1,\"apple\"}\n",
        "print(set1)"
      ]
    },
    {
      "cell_type": "code",
      "execution_count": null,
      "metadata": {
        "colab": {
          "base_uri": "https://localhost:8080/"
        },
        "id": "LIxUhieGzWKK",
        "outputId": "45d91b9b-6ee1-498e-bc2e-b643da442598"
      },
      "outputs": [
        {
          "name": "stdout",
          "output_type": "stream",
          "text": [
            "{'banana', 'apple', 1}\n"
          ]
        }
      ],
      "source": [
        "set1 = {\"apple\",\"banana\",1,\"apple\",True}\n",
        "print(set1)"
      ]
    },
    {
      "cell_type": "code",
      "execution_count": null,
      "metadata": {
        "colab": {
          "base_uri": "https://localhost:8080/"
        },
        "id": "IdMKJVEiz-1Q",
        "outputId": "560760c0-20be-4b0d-ebe4-607e942cde9a"
      },
      "outputs": [
        {
          "name": "stdout",
          "output_type": "stream",
          "text": [
            "{'banana', 'apple', 'mango', 1}\n"
          ]
        }
      ],
      "source": [
        "set1.add(\"mango\")\n",
        "print(set1)"
      ]
    },
    {
      "cell_type": "code",
      "execution_count": null,
      "metadata": {
        "colab": {
          "base_uri": "https://localhost:8080/"
        },
        "id": "N8iA11To0GjK",
        "outputId": "f2e8c358-b614-4bfc-ce04-9187d062978a"
      },
      "outputs": [
        {
          "name": "stdout",
          "output_type": "stream",
          "text": [
            "{'banana', 1, 'mango', 'apple', 'yellow'}\n"
          ]
        }
      ],
      "source": [
        "set2 = {\"yellow\",\"banana\"}\n",
        "set1.update(set2)\n",
        "print(set1)"
      ]
    },
    {
      "cell_type": "code",
      "execution_count": null,
      "metadata": {
        "colab": {
          "base_uri": "https://localhost:8080/"
        },
        "id": "SF6cW7ND0gCm",
        "outputId": "88295aa3-26ee-41ab-a390-bb4b06f2c8d5"
      },
      "outputs": [
        {
          "name": "stdout",
          "output_type": "stream",
          "text": [
            "{'banana', 1, 'mango', 'apple'}\n"
          ]
        }
      ],
      "source": [
        "set1.remove(\"yellow\")\n",
        "print(set1)"
      ]
    },
    {
      "cell_type": "code",
      "execution_count": null,
      "metadata": {
        "colab": {
          "base_uri": "https://localhost:8080/"
        },
        "id": "DP4A6NowzuEe",
        "outputId": "de205ddf-2fe3-419a-8870-efe865008168"
      },
      "outputs": [
        {
          "name": "stdout",
          "output_type": "stream",
          "text": [
            "banana\n",
            "1\n",
            "mango\n",
            "apple\n"
          ]
        }
      ],
      "source": [
        "# set can't access by index\n",
        "for x in set1:\n",
        "  print(x)"
      ]
    },
    {
      "attachments": {},
      "cell_type": "markdown",
      "metadata": {
        "id": "iZH-iwtEKjoj"
      },
      "source": [
        "## List"
      ]
    },
    {
      "cell_type": "code",
      "execution_count": null,
      "metadata": {
        "colab": {
          "base_uri": "https://localhost:8080/"
        },
        "id": "Y_xmnmxdKPqN",
        "outputId": "85c26990-f26c-4784-b706-4e6041b94948"
      },
      "outputs": [
        {
          "name": "stdout",
          "output_type": "stream",
          "text": [
            "['apple', 'grape', 100, 3.4, [1, 2], (2, 3)]\n",
            "['apple', 'grape']\n"
          ]
        }
      ],
      "source": [
        "arr = ['apple', 'grape', 100, 3.4,[1,2],(2,3)]\n",
        "print(arr)\n",
        "print(arr[:2])"
      ]
    },
    {
      "cell_type": "code",
      "execution_count": null,
      "metadata": {
        "colab": {
          "base_uri": "https://localhost:8080/"
        },
        "id": "hEeE80ttLEMm",
        "outputId": "e7540415-93b9-4113-d116-0b59b60a3dfd"
      },
      "outputs": [
        {
          "name": "stdout",
          "output_type": "stream",
          "text": [
            "['apple', 'grape', 100, 3.4, [1, 2], (2, 3), 'orange']\n"
          ]
        }
      ],
      "source": [
        "arr.append('orange')\n",
        "print(arr)"
      ]
    },
    {
      "cell_type": "code",
      "execution_count": null,
      "metadata": {
        "colab": {
          "base_uri": "https://localhost:8080/"
        },
        "id": "BXA2PcxERFbe",
        "outputId": "a9c15b4a-2812-464f-9bec-4a7ce31017c3"
      },
      "outputs": [
        {
          "name": "stdout",
          "output_type": "stream",
          "text": [
            "['apple', 560, 'grape', 100, 3.4, [1, 2], (2, 3), 'orange']\n"
          ]
        }
      ],
      "source": [
        "arr.insert(1,560)\n",
        "print(arr)"
      ]
    },
    {
      "cell_type": "code",
      "execution_count": null,
      "metadata": {
        "colab": {
          "base_uri": "https://localhost:8080/"
        },
        "id": "vv1mrpdjRNB0",
        "outputId": "a0bf2a9d-b770-435d-a4d4-725f5a06c44e"
      },
      "outputs": [
        {
          "name": "stdout",
          "output_type": "stream",
          "text": [
            "560\n",
            "['apple', 'grape', 100, 3.4, [1, 2], (2, 3), 'orange']\n"
          ]
        }
      ],
      "source": [
        "print(arr.pop(1))\n",
        "print(arr)"
      ]
    },
    {
      "cell_type": "code",
      "execution_count": null,
      "metadata": {
        "colab": {
          "base_uri": "https://localhost:8080/"
        },
        "id": "nfaPFEY7RVPa",
        "outputId": "81a4f46f-34ee-4e9c-e11a-45c503d1f951"
      },
      "outputs": [
        {
          "name": "stdout",
          "output_type": "stream",
          "text": [
            "None\n",
            "['apple', 100, 3.4, [1, 2], (2, 3), 'orange']\n"
          ]
        }
      ],
      "source": [
        "print(arr.remove(\"grape\"))\n",
        "print(arr)"
      ]
    },
    {
      "cell_type": "code",
      "execution_count": null,
      "metadata": {
        "colab": {
          "base_uri": "https://localhost:8080/"
        },
        "id": "WRvG6VjXR5q2",
        "outputId": "bcfc751a-68fb-4676-cb7f-541bf1a4eda1"
      },
      "outputs": [
        {
          "name": "stdout",
          "output_type": "stream",
          "text": [
            "found\n"
          ]
        }
      ],
      "source": [
        "if 'apple' in arr:\n",
        "  print('found')\n",
        "else:\n",
        "  print('Not found')"
      ]
    },
    {
      "cell_type": "code",
      "execution_count": null,
      "metadata": {
        "colab": {
          "base_uri": "https://localhost:8080/"
        },
        "id": "hMuwRoRnSUta",
        "outputId": "54b87df6-5e8a-4fb8-e780-66e127f59e7b"
      },
      "outputs": [
        {
          "name": "stdout",
          "output_type": "stream",
          "text": [
            "6\n"
          ]
        }
      ],
      "source": [
        "print(len(arr))"
      ]
    },
    {
      "cell_type": "code",
      "execution_count": null,
      "metadata": {
        "colab": {
          "base_uri": "https://localhost:8080/"
        },
        "id": "3sf0fi5BUz5s",
        "outputId": "e783e678-8c91-44dc-f514-c299febd56ee"
      },
      "outputs": [
        {
          "name": "stdout",
          "output_type": "stream",
          "text": [
            "apple\n",
            "100\n",
            "3.4\n",
            "[1, 2]\n",
            "(2, 3)\n",
            "orange\n"
          ]
        }
      ],
      "source": [
        "for item in arr:\n",
        "  print(item)"
      ]
    },
    {
      "cell_type": "code",
      "execution_count": null,
      "metadata": {
        "colab": {
          "base_uri": "https://localhost:8080/"
        },
        "id": "8VTy6Ms-U35d",
        "outputId": "814e2e39-dd01-44bd-f135-1c388b1fbe41"
      },
      "outputs": [
        {
          "name": "stdout",
          "output_type": "stream",
          "text": [
            "apple\n",
            "100\n",
            "3.4\n",
            "[1, 2]\n",
            "(2, 3)\n",
            "orange\n"
          ]
        }
      ],
      "source": [
        "for i in range(len(arr)):\n",
        "  print(arr[i])"
      ]
    },
    {
      "cell_type": "code",
      "execution_count": null,
      "metadata": {
        "colab": {
          "base_uri": "https://localhost:8080/"
        },
        "id": "znHDoerbVA9W",
        "outputId": "c4fcb4e5-084c-4a62-a8ac-b272035a8315"
      },
      "outputs": [
        {
          "name": "stdout",
          "output_type": "stream",
          "text": [
            "[1, 2, 3, 4, 5, 1, 2, 3, 4, 5, 1, 2, 3, 4, 5]\n",
            "[1, 2, 3, 4, 5, 1, 2, 3, 4, 5]\n"
          ]
        }
      ],
      "source": [
        "temp = [1,2,3,4,5]\n",
        "print(temp*3)"
      ]
    },
    {
      "cell_type": "code",
      "execution_count": null,
      "metadata": {
        "colab": {
          "base_uri": "https://localhost:8080/"
        },
        "id": "CfyKPS7cVRKo",
        "outputId": "e4c3363d-7235-4f9b-e887-4bf5e6781b06"
      },
      "outputs": [
        {
          "name": "stdout",
          "output_type": "stream",
          "text": [
            "[1, 2, 3, 4, 5, 6] [1, 2, 3, 4, 5, 6]\n"
          ]
        }
      ],
      "source": [
        "arr2 = temp\n",
        "arr2.append(6)\n",
        "print(temp,arr2)"
      ]
    },
    {
      "cell_type": "code",
      "execution_count": null,
      "metadata": {
        "colab": {
          "base_uri": "https://localhost:8080/"
        },
        "id": "5fMM4dY-Vlr1",
        "outputId": "f97fab2d-310a-4e49-ca2e-7c750d9465bc"
      },
      "outputs": [
        {
          "name": "stdout",
          "output_type": "stream",
          "text": [
            "[1, 2, 3, 4, 5, 6] [1, 2, 3, 4, 5, 6, 7]\n"
          ]
        }
      ],
      "source": [
        "arr2 = temp.copy()\n",
        "arr2.append(7)\n",
        "print(temp,arr2)"
      ]
    },
    {
      "cell_type": "code",
      "execution_count": null,
      "metadata": {
        "colab": {
          "base_uri": "https://localhost:8080/"
        },
        "id": "OcAZr2YEVu8b",
        "outputId": "22f41427-e340-444b-e726-a0d44144838e"
      },
      "outputs": [
        {
          "name": "stdout",
          "output_type": "stream",
          "text": [
            "[1, 2, [4]] [1, 2, [4]] \n",
            "\n",
            "[1, 2, [5]] [1, 2, [5]] \n",
            "\n",
            "[1, 2, []] [1, 2, [5]] \n",
            "\n"
          ]
        }
      ],
      "source": [
        "foo = [1, 2, []]\n",
        "bar = foo\n",
        "bar[-1].append(4)\n",
        "print(foo, bar, '\\n')\n",
        "\n",
        "foo = [1, 2, []]\n",
        "bar = foo.copy()\n",
        "bar[-1].append(5)\n",
        "print(foo, bar, '\\n')\n",
        "\n",
        "import copy\n",
        "foo = [1, 2, []]\n",
        "bar = copy.deepcopy(foo)\n",
        "bar[-1].append(5)\n",
        "print(foo, bar, '\\n')"
      ]
    },
    {
      "attachments": {},
      "cell_type": "markdown",
      "metadata": {
        "id": "r4Qsk22TXw1s"
      },
      "source": [
        "## Print all pair of numbers from a list"
      ]
    },
    {
      "cell_type": "code",
      "execution_count": null,
      "metadata": {
        "id": "cZKYQJeHXtxG"
      },
      "outputs": [],
      "source": [
        "A = [1,2,3,4]"
      ]
    },
    {
      "attachments": {},
      "cell_type": "markdown",
      "metadata": {
        "id": "uUauaFQo03H3"
      },
      "source": [
        "## Print a relation is reflexive or symmetric or transitive or not?"
      ]
    },
    {
      "cell_type": "code",
      "execution_count": null,
      "metadata": {
        "id": "cdjXDBmS0_Px"
      },
      "outputs": [],
      "source": [
        "R = {(1,1),(1,2),(2,2),(2,3),(3,3),(3,2),(4,4)}"
      ]
    },
    {
      "attachments": {},
      "cell_type": "markdown",
      "metadata": {
        "id": "zU1WTMgKYC3F"
      },
      "source": [
        "## Dictionary"
      ]
    },
    {
      "cell_type": "code",
      "execution_count": null,
      "metadata": {
        "id": "KdSprEhLYAJH"
      },
      "outputs": [],
      "source": [
        "person = {\n",
        "    \"name\" : \"saiful islam ratan\",\n",
        "    \"email\" : \"ratan@bscse.uiu.ac.bd\",\n",
        "    \"joined\" : 2019,\n",
        "    \"course\" : [\"SPL\",\"AI\",\"DSA\"]\n",
        "}"
      ]
    },
    {
      "cell_type": "code",
      "execution_count": null,
      "metadata": {
        "colab": {
          "base_uri": "https://localhost:8080/"
        },
        "id": "I7tbqSBw2F1T",
        "outputId": "62b92ec3-9fe3-45b9-f5f5-7fa227599ba4"
      },
      "outputs": [
        {
          "name": "stdout",
          "output_type": "stream",
          "text": [
            "{'name': 'saiful islam ratan', 'email': 'ratan@bscse.uiu.ac.bd', 'joined': 2019, 'course': ['SPL', 'AI', 'DSA']}\n",
            "dict_keys(['name', 'email', 'joined', 'course'])\n",
            "dict_values(['saiful islam ratan', 'ratan@bscse.uiu.ac.bd', 2019, ['SPL', 'AI', 'DSA']])\n"
          ]
        }
      ],
      "source": [
        "print(person)\n",
        "print(person.keys())\n",
        "print(person.values())"
      ]
    },
    {
      "cell_type": "code",
      "execution_count": null,
      "metadata": {
        "colab": {
          "base_uri": "https://localhost:8080/"
        },
        "id": "ms-olBXg2M1C",
        "outputId": "3ca402c9-9ad0-4521-a1d5-5bf46999333a"
      },
      "outputs": [
        {
          "name": "stdout",
          "output_type": "stream",
          "text": [
            "2019\n",
            "2019\n",
            "True\n"
          ]
        }
      ],
      "source": [
        "print(person.get('joined'))\n",
        "print(person['joined'])\n",
        "print(\"name\" in person)"
      ]
    },
    {
      "cell_type": "code",
      "execution_count": null,
      "metadata": {
        "colab": {
          "base_uri": "https://localhost:8080/"
        },
        "id": "TLP6u8Kw4qX4",
        "outputId": "978f79d1-4ab9-46ba-fe6c-a92b929884b1"
      },
      "outputs": [
        {
          "name": "stdout",
          "output_type": "stream",
          "text": [
            "name ---> saiful islam ratan\n",
            "email ---> ratan@bscse.uiu.ac.bd\n",
            "joined ---> 2019\n",
            "course ---> ['SPL', 'AI', 'DSA']\n"
          ]
        }
      ],
      "source": [
        "for key in person:\n",
        "  print(key,\"--->\",person[key])"
      ]
    },
    {
      "cell_type": "code",
      "execution_count": null,
      "metadata": {
        "colab": {
          "base_uri": "https://localhost:8080/"
        },
        "id": "buaECOAh4ztY",
        "outputId": "b4c49160-dda5-4026-8904-1e85d4ec0cc8"
      },
      "outputs": [
        {
          "name": "stdout",
          "output_type": "stream",
          "text": [
            "['SPL', 'AI', 'DSA']\n",
            "{'name': 'saiful islam ratan', 'email': 'ratan@bscse.uiu.ac.bd', 'joined': 2019}\n",
            "{'name': 'saiful islam ratan', 'email': 'ratan@bscse.uiu.ac.bd', 'joined': 2019, 'course': ['OOP', 'AOOP']}\n"
          ]
        }
      ],
      "source": [
        "print(person.pop('course'))\n",
        "print(person)\n",
        "\n",
        "person['course'] = [\"OOP\",\"AOOP\"]\n",
        "print(person)"
      ]
    },
    {
      "attachments": {},
      "cell_type": "markdown",
      "metadata": {
        "id": "tcYXcmNC5oR7"
      },
      "source": [
        "## write a code that counts the frequency of each letter in a sentence"
      ]
    },
    {
      "cell_type": "code",
      "execution_count": null,
      "metadata": {
        "id": "m5IqMW5FucaK"
      },
      "outputs": [],
      "source": [
        "graph = {\n",
        "    \"A\":[\"B\",\"C\",\"D\"],\n",
        "    \"B\" : [\"A\",\"C\",\"D\"],\n",
        "    \"C\" :[\"A\",\"B\",\"E\"],\n",
        "    \"D\" :[\"A\",\"B\",\"E\"],\n",
        "    \"E\" :[\"C\",\"D\"]\n",
        "    }"
      ]
    },
    {
      "cell_type": "code",
      "execution_count": null,
      "metadata": {
        "colab": {
          "base_uri": "https://localhost:8080/"
        },
        "id": "EDshyowJu5ua",
        "outputId": "ca440c0f-93c5-4a65-db2b-49ed340449a1"
      },
      "outputs": [
        {
          "name": "stdout",
          "output_type": "stream",
          "text": [
            "A -> ['B', 'C', 'D']\n",
            "B -> ['A', 'C', 'D']\n",
            "C -> ['A', 'B', 'E']\n",
            "D -> ['A', 'B', 'E']\n",
            "E -> ['C', 'D']\n"
          ]
        }
      ],
      "source": [
        "for vertex in graph:\n",
        "  print(vertex,\"->\",graph[vertex])"
      ]
    },
    {
      "attachments": {},
      "cell_type": "markdown",
      "metadata": {
        "id": "vK3C8J-W6awp"
      },
      "source": [
        "## Class in python"
      ]
    },
    {
      "cell_type": "code",
      "execution_count": null,
      "metadata": {
        "colab": {
          "base_uri": "https://localhost:8080/"
        },
        "id": "KJ5SmGg78vFS",
        "outputId": "8ac36670-aed9-4515-9454-a8743933f661"
      },
      "outputs": [
        {
          "name": "stdout",
          "output_type": "stream",
          "text": [
            "John(36)\n"
          ]
        }
      ],
      "source": [
        "class Person:\n",
        "  def __init__(self, name, age):\n",
        "    self.name = name\n",
        "    self.age = age\n",
        "\n",
        "  def __str__(self):\n",
        "    return f\"{self.name}({self.age})\"\n",
        "\n",
        "p1 = Person(\"John\", 36)\n",
        "\n",
        "print(p1)"
      ]
    },
    {
      "cell_type": "code",
      "execution_count": null,
      "metadata": {
        "id": "xp3Pr6B05_vW"
      },
      "outputs": [],
      "source": [
        "class Employee:\n",
        "  emp_num = 0 # works like static variable common to all objects of a class\n",
        "\n",
        "  def __init__(self, first, last, pay): # constructor\n",
        "    self.first = first # member variable\n",
        "    self.last = last # member variable\n",
        "    self.email = first + '.' + last + '@email.com' # member variable\n",
        "    self.pay = pay # member variable\n",
        "    apple = 1 # not member variable\n",
        "    Employee.emp_num += 1 # static variable\n",
        "\n",
        "  def fullname(self): # self is comparable to this keyword of Java\n",
        "    return f'{self.first} {self.last}'# \"%s %s\", self.first, self.last\n",
        "  \n",
        "  def applyRaise(self, raise_):\n",
        "    self.pay = int(self.pay * raise_)\n",
        "\n",
        "  def __str__(self): # toString()\n",
        "    return f'{self.fullname()} - {self.email}: {self.pay}'\n",
        "\n",
        "  @staticmethod # (Decorator) same working procedure for all objects of a class \n",
        "  def is_holiday(day):\n",
        "    holidays = [1, 30, 49, 350]\n",
        "    if day in holidays:\n",
        "        return True\n",
        "    else:\n",
        "      return False\n"
      ]
    },
    {
      "cell_type": "code",
      "execution_count": null,
      "metadata": {
        "colab": {
          "base_uri": "https://localhost:8080/"
        },
        "id": "sOelf9KY9-Kw",
        "outputId": "7fe0a475-8707-4f0f-ca3a-9995aa336ecd"
      },
      "outputs": [
        {
          "name": "stdout",
          "output_type": "stream",
          "text": [
            "0\n",
            "2\n",
            "Corey Schafer\n",
            "75000\n",
            "True\n",
            "False\n",
            "Corey Schafer - Corey.Schafer@email.com: 75000\n"
          ]
        }
      ],
      "source": [
        "print(Employee.emp_num) # 0\n",
        "\n",
        "emp_1 = Employee('Corey', 'Schafer', 50000) \n",
        "emp_2 = Employee('Test', 'Employee', 60000)\n",
        "\n",
        "\n",
        "print(Employee.emp_num) # 2\n",
        "\n",
        "print(emp_1.fullname()) # Corey Schafer\n",
        "\n",
        "emp_1.applyRaise(1.5)\n",
        "print(emp_1.pay) # 75000\n",
        "\n",
        "print(Employee.is_holiday(30)) # True\n",
        "print(Employee.is_holiday(31)) # False\n",
        "\n",
        "print(emp_1) # Corey Schafer corey.schafer@gmail.com 75000"
      ]
    },
    {
      "cell_type": "code",
      "execution_count": null,
      "metadata": {
        "id": "rtjAPUmE9-7w"
      },
      "outputs": [],
      "source": [
        "class Developer(Employee):\n",
        "    def __init__(self, first, last, pay, prog_lang):\n",
        "        super().__init__(first, last, pay) # call parent class constructor\n",
        "        self.prog_lang = prog_lang\n",
        "\n",
        "\n",
        "class Manager(Employee):\n",
        "  def __init__(self, first, last, pay, employees=None):\n",
        "      super().__init__(first, last, pay)\n",
        "      if employees is None:\n",
        "          self.employees = []\n",
        "      else:\n",
        "          self.employees = employees\n",
        "\n",
        "  def add_emp(self, emp):\n",
        "      if emp not in self.employees:\n",
        "          self.employees.append(emp)\n",
        "\n",
        "  def remove_emp(self, emp):\n",
        "      if emp in self.employees:\n",
        "          self.employees.remove(emp)\n",
        "\n",
        "  def print_emps(self):\n",
        "      for emp in self.employees:\n",
        "          print('-->', emp.fullname())\n"
      ]
    },
    {
      "cell_type": "code",
      "execution_count": null,
      "metadata": {
        "colab": {
          "base_uri": "https://localhost:8080/"
        },
        "id": "RvyR2-LR-uyI",
        "outputId": "7063b0ef-cebc-4b18-de14-c9c65708c33b"
      },
      "outputs": [
        {
          "name": "stdout",
          "output_type": "stream",
          "text": [
            "Sue.Smith@email.com\n",
            "--> Corey Schafer\n",
            "--> Test Employee\n",
            "\n",
            "--> Corey Schafer\n",
            "\n",
            "True\n",
            "True\n",
            "False\n",
            "\n",
            "True\n"
          ]
        }
      ],
      "source": [
        "dev_1 = Developer('Corey', 'Schafer', 50000, 'Python')\n",
        "dev_2 = Developer('Test', 'Employee', 60000, 'Java')\n",
        "\n",
        "mgr_1 = Manager('Sue', 'Smith', 90000, [dev_1])\n",
        "print(mgr_1.email)\n",
        "\n",
        "mgr_1.add_emp(dev_2)\n",
        "mgr_1.print_emps()\n",
        "print()\n",
        "\n",
        "mgr_1.remove_emp(dev_2)\n",
        "mgr_1.print_emps()\n",
        "print()\n",
        "\n",
        "print(isinstance(mgr_1, Manager))  # Is mgr_1 an instance of Manager? \n",
        "print(isinstance(mgr_1, Employee))\n",
        "print(isinstance(mgr_1, Developer))\n",
        "print()\n",
        "\n",
        "print(issubclass(Developer, Employee)) # Is Developer class a subclass of Employee class??"
      ]
    },
    {
      "attachments": {},
      "cell_type": "markdown",
      "metadata": {
        "id": "5zcnasEn_CWw"
      },
      "source": [
        "## write a class Point to store the x,y coords of 2D points. \n",
        "1. The class should have the methods move_left, move_right, move_up, move down.\n",
        "2. move_left moves the point 1 cell to the left, move_right moves the point 1 cell to the right\n",
        "3. move_up moves the point 1 cell up, and move_down moves the point 1 cell down\n",
        "4. write a distance function to calculate the manhattan distance between two points"
      ]
    },
    {
      "attachments": {},
      "cell_type": "markdown",
      "metadata": {
        "id": "pGhwLL1v_qrL"
      },
      "source": [
        "## Numpy"
      ]
    },
    {
      "cell_type": "code",
      "execution_count": null,
      "metadata": {
        "id": "NsjtnuP1-0QW"
      },
      "outputs": [],
      "source": [
        "# numpy tutorial - http://cs231n.github.io/python-numpy-tutorial/#numpy-arrays\n",
        "# numpy uses the facility of GPU. So, try to use it instead of for loop\n",
        "import numpy as np "
      ]
    },
    {
      "cell_type": "code",
      "execution_count": null,
      "metadata": {
        "colab": {
          "base_uri": "https://localhost:8080/"
        },
        "id": "Gl4zR4Wx_0uH",
        "outputId": "9a9f38cb-ad66-400a-a839-f2ab98cbd362"
      },
      "outputs": [
        {
          "name": "stdout",
          "output_type": "stream",
          "text": [
            "<class 'list'>\n",
            "<class 'numpy.ndarray'>\n",
            "(3,)\n"
          ]
        }
      ],
      "source": [
        "a = [3, 6, 7]\n",
        "print(type(a))\n",
        "arr = np.array(a)\n",
        "print(type(arr))\n",
        "\n",
        "print(arr.shape)"
      ]
    },
    {
      "cell_type": "code",
      "execution_count": null,
      "metadata": {
        "colab": {
          "base_uri": "https://localhost:8080/"
        },
        "id": "nsXUr_TF_4tc",
        "outputId": "69d5764a-917f-487d-ea23-3666203facb1"
      },
      "outputs": [
        {
          "name": "stdout",
          "output_type": "stream",
          "text": [
            "(2, 2)\n"
          ]
        }
      ],
      "source": [
        "a = [\n",
        "     [1, 4],\n",
        "     [3, 5]\n",
        "]\n",
        "a = np.array(a)\n",
        "print(a.shape)"
      ]
    },
    {
      "cell_type": "code",
      "execution_count": null,
      "metadata": {
        "colab": {
          "base_uri": "https://localhost:8080/"
        },
        "id": "z9vA3GdFADdu",
        "outputId": "413a5e40-551c-4f78-b90d-1ca41810f643"
      },
      "outputs": [
        {
          "name": "stdout",
          "output_type": "stream",
          "text": [
            "<class 'numpy.ndarray'>\n",
            "(3,)\n",
            "3\n"
          ]
        }
      ],
      "source": [
        "a = np.array([3, 5, 4])\n",
        "print(type(a))\n",
        "print(a.shape)\n",
        "print(a[0])"
      ]
    },
    {
      "cell_type": "code",
      "execution_count": null,
      "metadata": {
        "colab": {
          "base_uri": "https://localhost:8080/"
        },
        "id": "ZDq-r3GcAH-n",
        "outputId": "1861b251-4409-4856-a0c9-c8c0e41bc81d"
      },
      "outputs": [
        {
          "name": "stdout",
          "output_type": "stream",
          "text": [
            "[[0.10724652 0.1973854  0.67760813 0.59671423 0.01008004]\n",
            " [0.33527938 0.53682141 0.99191587 0.40816946 0.01101144]\n",
            " [0.75823429 0.19945268 0.08884963 0.62318865 0.3196717 ]\n",
            " [0.31455274 0.71408204 0.72639927 0.57992777 0.75233995]]\n",
            "[[4 4 7 1 7]\n",
            " [6 0 7 0 3]\n",
            " [1 5 5 8 5]\n",
            " [8 3 5 4 9]]\n"
          ]
        }
      ],
      "source": [
        "a = np.random.random((4, 5))\n",
        "print(a)\n",
        "a = np.random.randint(0, 10, (4, 5))\n",
        "# a = np.random.randint(low=0, high=10, size=(4, 5))\n",
        "print(a)"
      ]
    },
    {
      "cell_type": "code",
      "execution_count": null,
      "metadata": {
        "colab": {
          "base_uri": "https://localhost:8080/"
        },
        "id": "ofoaCrpkATw7",
        "outputId": "aa5763c8-1030-49fb-c2aa-7345f763fc78"
      },
      "outputs": [
        {
          "name": "stdout",
          "output_type": "stream",
          "text": [
            "[[0. 0.]\n",
            " [0. 0.]]\n",
            "[[1. 1.]]\n",
            "[[7 7]\n",
            " [7 7]]\n",
            "[[1. 0.]\n",
            " [0. 1.]]\n"
          ]
        }
      ],
      "source": [
        "a = np.zeros((2,2))   # Create an array of all zeros\n",
        "print(a)              # Prints \"[[ 0.  0.]\n",
        "                      #          [ 0.  0.]]\"\n",
        "\n",
        "b = np.ones((1,2))    # Create an array of all ones\n",
        "print(b)              # Prints \"[[ 1.  1.]]\"\n",
        "\n",
        "c = np.full((2,2), 7)  # Create a constant array\n",
        "print(c)               # Prints \"[[ 7.  7.]\n",
        "                       #          [ 7.  7.]]\"\n",
        "\n",
        "d = np.eye(2)         # Create a 2x2 identity matrix\n",
        "print(d)              # Prints \"[[ 1.  0.]\n",
        "                      #          [ 0.  1.]]\""
      ]
    },
    {
      "cell_type": "code",
      "execution_count": null,
      "metadata": {
        "colab": {
          "base_uri": "https://localhost:8080/"
        },
        "id": "yyjMhTNzAg1B",
        "outputId": "b0097b01-dcb8-408d-8f43-c79048fb1a60"
      },
      "outputs": [
        {
          "name": "stdout",
          "output_type": "stream",
          "text": [
            "[[ 6  8]\n",
            " [10 12]]\n",
            "[[ 6  8]\n",
            " [10 12]]\n",
            "[[101 102]\n",
            " [103 104]]\n",
            "[[50.5 51. ]\n",
            " [51.5 52. ]]\n"
          ]
        }
      ],
      "source": [
        "x = np.array([[1,2],[3,4]]) \n",
        "y = np.array([[5,6],[7,8]])\n",
        "\n",
        "print(x + y)\n",
        "print(np.add(x, y)) #time complexity O(1) if we use GPU\n",
        "\n",
        "print( x+100 )\n",
        "print((x+100) / 2)"
      ]
    },
    {
      "cell_type": "code",
      "execution_count": null,
      "metadata": {
        "colab": {
          "base_uri": "https://localhost:8080/"
        },
        "id": "ngIwFTrQAtVe",
        "outputId": "95cc1029-9a7e-499c-c98a-8c5c20a90ba2"
      },
      "outputs": [
        {
          "name": "stdout",
          "output_type": "stream",
          "text": [
            "[[0.2        0.33333333]\n",
            " [0.42857143 0.5       ]]\n",
            "[[ 5 12]\n",
            " [21 32]]\n",
            "[[19 22]\n",
            " [43 50]]\n",
            "[[19 22]\n",
            " [43 50]]\n"
          ]
        }
      ],
      "source": [
        "z= x/y\n",
        "print(z)\n",
        "z = x*y # element wise multiplication\n",
        "print(z)\n",
        "print(x.dot(y)) # matrix multiplication / dot product\n",
        "print(np.dot(x, y))"
      ]
    },
    {
      "cell_type": "code",
      "execution_count": null,
      "metadata": {
        "colab": {
          "base_uri": "https://localhost:8080/"
        },
        "id": "YMzOFtW3A-Jy",
        "outputId": "42a523ed-5a2c-4f2d-ceb4-292eb5f71b85"
      },
      "outputs": [
        {
          "name": "stdout",
          "output_type": "stream",
          "text": [
            "16\n",
            "[4 6 6]\n",
            "[8 8]\n"
          ]
        }
      ],
      "source": [
        "x = np.array([\n",
        "              [1,2,5],\n",
        "              [3,4,1]\n",
        "              ])\n",
        "\n",
        "print(np.sum(x))  # Compute sum of all elements; prints \"10\"\n",
        "print(np.sum(x, axis=0))  # Compute sum of each column; prints \"[4 6 6]\"\n",
        "print(np.sum(x, axis=1))  # Compute sum of each row; prints \"[8 8]\""
      ]
    },
    {
      "cell_type": "code",
      "execution_count": null,
      "metadata": {
        "colab": {
          "base_uri": "https://localhost:8080/"
        },
        "id": "tt9QzEAgBSKq",
        "outputId": "ac5d4a59-0403-4c53-c1a5-907b3f4b8023"
      },
      "outputs": [
        {
          "name": "stdout",
          "output_type": "stream",
          "text": [
            "[[1]\n",
            " [2]\n",
            " [3]]\n",
            "(3, 1)\n",
            "(2,)\n",
            "[[ 4  5]\n",
            " [ 8 10]\n",
            " [12 15]]\n"
          ]
        }
      ],
      "source": [
        "v = np.array([1,2,3])  # v has shape (3,)\n",
        "w = np.array([4,5])    # w has shape (2,)\n",
        "# print(v * w) # can't do this, need to reshape\n",
        "\n",
        "v = np.reshape(v, (3, 1))\n",
        "print(v)\n",
        "print(v.shape)\n",
        "print(w.shape)\n",
        "\n",
        "print(v * w)"
      ]
    },
    {
      "attachments": {},
      "cell_type": "markdown",
      "metadata": {
        "id": "ypu5dHXbCIR-"
      },
      "source": [
        "## Pandas"
      ]
    },
    {
      "cell_type": "code",
      "execution_count": null,
      "metadata": {
        "id": "QnS7AHq9Bf5-"
      },
      "outputs": [],
      "source": [
        "import pandas as pd"
      ]
    },
    {
      "cell_type": "code",
      "execution_count": null,
      "metadata": {
        "colab": {
          "base_uri": "https://localhost:8080/"
        },
        "id": "pZl36AgIDUUY",
        "outputId": "c0647067-1f88-4266-ed68-5a4ed7188636"
      },
      "outputs": [
        {
          "name": "stdout",
          "output_type": "stream",
          "text": [
            "    cars  passings\n",
            "0    BMW         3\n",
            "1  Volvo         7\n",
            "2   Ford         2\n"
          ]
        }
      ],
      "source": [
        "mydataset = {\n",
        "  'cars': [\"BMW\", \"Volvo\", \"Ford\"],\n",
        "  'passings': [3, 7, 2]\n",
        "}\n",
        "\n",
        "myvar = pd.DataFrame(mydataset)\n",
        "\n",
        "print(myvar)"
      ]
    },
    {
      "cell_type": "code",
      "execution_count": null,
      "metadata": {
        "colab": {
          "base_uri": "https://localhost:8080/",
          "height": 143
        },
        "id": "8_dX9baoDV1N",
        "outputId": "a15571ae-7a3e-4397-9900-f1f75e979a53"
      },
      "outputs": [
        {
          "data": {
            "text/html": [
              "\n",
              "  <div id=\"df-0e2089c9-c8aa-4e13-b967-700fec708225\">\n",
              "    <div class=\"colab-df-container\">\n",
              "      <div>\n",
              "<style scoped>\n",
              "    .dataframe tbody tr th:only-of-type {\n",
              "        vertical-align: middle;\n",
              "    }\n",
              "\n",
              "    .dataframe tbody tr th {\n",
              "        vertical-align: top;\n",
              "    }\n",
              "\n",
              "    .dataframe thead th {\n",
              "        text-align: right;\n",
              "    }\n",
              "</style>\n",
              "<table border=\"1\" class=\"dataframe\">\n",
              "  <thead>\n",
              "    <tr style=\"text-align: right;\">\n",
              "      <th></th>\n",
              "      <th>cars</th>\n",
              "      <th>passings</th>\n",
              "    </tr>\n",
              "  </thead>\n",
              "  <tbody>\n",
              "    <tr>\n",
              "      <th>0</th>\n",
              "      <td>BMW</td>\n",
              "      <td>3</td>\n",
              "    </tr>\n",
              "    <tr>\n",
              "      <th>1</th>\n",
              "      <td>Volvo</td>\n",
              "      <td>7</td>\n",
              "    </tr>\n",
              "    <tr>\n",
              "      <th>2</th>\n",
              "      <td>Ford</td>\n",
              "      <td>2</td>\n",
              "    </tr>\n",
              "  </tbody>\n",
              "</table>\n",
              "</div>\n",
              "      <button class=\"colab-df-convert\" onclick=\"convertToInteractive('df-0e2089c9-c8aa-4e13-b967-700fec708225')\"\n",
              "              title=\"Convert this dataframe to an interactive table.\"\n",
              "              style=\"display:none;\">\n",
              "        \n",
              "  <svg xmlns=\"http://www.w3.org/2000/svg\" height=\"24px\"viewBox=\"0 0 24 24\"\n",
              "       width=\"24px\">\n",
              "    <path d=\"M0 0h24v24H0V0z\" fill=\"none\"/>\n",
              "    <path d=\"M18.56 5.44l.94 2.06.94-2.06 2.06-.94-2.06-.94-.94-2.06-.94 2.06-2.06.94zm-11 1L8.5 8.5l.94-2.06 2.06-.94-2.06-.94L8.5 2.5l-.94 2.06-2.06.94zm10 10l.94 2.06.94-2.06 2.06-.94-2.06-.94-.94-2.06-.94 2.06-2.06.94z\"/><path d=\"M17.41 7.96l-1.37-1.37c-.4-.4-.92-.59-1.43-.59-.52 0-1.04.2-1.43.59L10.3 9.45l-7.72 7.72c-.78.78-.78 2.05 0 2.83L4 21.41c.39.39.9.59 1.41.59.51 0 1.02-.2 1.41-.59l7.78-7.78 2.81-2.81c.8-.78.8-2.07 0-2.86zM5.41 20L4 18.59l7.72-7.72 1.47 1.35L5.41 20z\"/>\n",
              "  </svg>\n",
              "      </button>\n",
              "      \n",
              "  <style>\n",
              "    .colab-df-container {\n",
              "      display:flex;\n",
              "      flex-wrap:wrap;\n",
              "      gap: 12px;\n",
              "    }\n",
              "\n",
              "    .colab-df-convert {\n",
              "      background-color: #E8F0FE;\n",
              "      border: none;\n",
              "      border-radius: 50%;\n",
              "      cursor: pointer;\n",
              "      display: none;\n",
              "      fill: #1967D2;\n",
              "      height: 32px;\n",
              "      padding: 0 0 0 0;\n",
              "      width: 32px;\n",
              "    }\n",
              "\n",
              "    .colab-df-convert:hover {\n",
              "      background-color: #E2EBFA;\n",
              "      box-shadow: 0px 1px 2px rgba(60, 64, 67, 0.3), 0px 1px 3px 1px rgba(60, 64, 67, 0.15);\n",
              "      fill: #174EA6;\n",
              "    }\n",
              "\n",
              "    [theme=dark] .colab-df-convert {\n",
              "      background-color: #3B4455;\n",
              "      fill: #D2E3FC;\n",
              "    }\n",
              "\n",
              "    [theme=dark] .colab-df-convert:hover {\n",
              "      background-color: #434B5C;\n",
              "      box-shadow: 0px 1px 3px 1px rgba(0, 0, 0, 0.15);\n",
              "      filter: drop-shadow(0px 1px 2px rgba(0, 0, 0, 0.3));\n",
              "      fill: #FFFFFF;\n",
              "    }\n",
              "  </style>\n",
              "\n",
              "      <script>\n",
              "        const buttonEl =\n",
              "          document.querySelector('#df-0e2089c9-c8aa-4e13-b967-700fec708225 button.colab-df-convert');\n",
              "        buttonEl.style.display =\n",
              "          google.colab.kernel.accessAllowed ? 'block' : 'none';\n",
              "\n",
              "        async function convertToInteractive(key) {\n",
              "          const element = document.querySelector('#df-0e2089c9-c8aa-4e13-b967-700fec708225');\n",
              "          const dataTable =\n",
              "            await google.colab.kernel.invokeFunction('convertToInteractive',\n",
              "                                                     [key], {});\n",
              "          if (!dataTable) return;\n",
              "\n",
              "          const docLinkHtml = 'Like what you see? Visit the ' +\n",
              "            '<a target=\"_blank\" href=https://colab.research.google.com/notebooks/data_table.ipynb>data table notebook</a>'\n",
              "            + ' to learn more about interactive tables.';\n",
              "          element.innerHTML = '';\n",
              "          dataTable['output_type'] = 'display_data';\n",
              "          await google.colab.output.renderOutput(dataTable, element);\n",
              "          const docLink = document.createElement('div');\n",
              "          docLink.innerHTML = docLinkHtml;\n",
              "          element.appendChild(docLink);\n",
              "        }\n",
              "      </script>\n",
              "    </div>\n",
              "  </div>\n",
              "  "
            ],
            "text/plain": [
              "    cars  passings\n",
              "0    BMW         3\n",
              "1  Volvo         7\n",
              "2   Ford         2"
            ]
          },
          "execution_count": 52,
          "metadata": {},
          "output_type": "execute_result"
        }
      ],
      "source": [
        "myvar.head()"
      ]
    },
    {
      "cell_type": "code",
      "execution_count": null,
      "metadata": {
        "id": "4Shsh-QkEL6O"
      },
      "outputs": [],
      "source": []
    }
  ],
  "metadata": {
    "colab": {
      "provenance": []
    },
    "kernelspec": {
      "display_name": "Python 3",
      "name": "python3"
    },
    "language_info": {
      "codemirror_mode": {
        "name": "ipython",
        "version": 3
      },
      "file_extension": ".py",
      "mimetype": "text/x-python",
      "name": "python",
      "nbconvert_exporter": "python",
      "pygments_lexer": "ipython3",
      "version": "3.10.2"
    }
  },
  "nbformat": 4,
  "nbformat_minor": 0
}

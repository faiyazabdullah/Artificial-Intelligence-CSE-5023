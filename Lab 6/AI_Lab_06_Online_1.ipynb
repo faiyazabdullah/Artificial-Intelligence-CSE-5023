{
  "nbformat": 4,
  "nbformat_minor": 0,
  "metadata": {
    "colab": {
      "provenance": []
    },
    "kernelspec": {
      "name": "python3",
      "display_name": "Python 3"
    },
    "language_info": {
      "name": "python"
    }
  },
  "cells": [
    {
      "cell_type": "code",
      "execution_count": 1,
      "metadata": {
        "colab": {
          "base_uri": "https://localhost:8080/"
        },
        "id": "boaoWLkpz4D9",
        "outputId": "3bfd9d9b-b151-46ec-ec80-6de8bccfb587"
      },
      "outputs": [
        {
          "output_type": "stream",
          "name": "stdout",
          "text": [
            "[0, 0, 1, 2, 4, 5, 8, 10, 10, 20]\n"
          ]
        }
      ],
      "source": [
        "def init():\n",
        "    state = [2, 1, 5, 0, 8, 4, 10, 0, 20, 10]\n",
        "    return state\n",
        "\n",
        "def calc_cost(state):\n",
        "    count = 0\n",
        "    for i in range(len(state)):\n",
        "        for j in range(i + 1, len(state)):\n",
        "            if state[j] < state[i]:\n",
        "                count += 1\n",
        "    return count\n",
        "\n",
        "def state_generation(current_state, current_cost):\n",
        "    min_cost = current_cost\n",
        "    min_state = current_state\n",
        "\n",
        "    for i in range(len(current_state)):\n",
        "        for j in range(i + 1, len(current_state)):\n",
        "            new_state = current_state.copy()\n",
        "            new_state[i], new_state[j] = new_state[j], new_state[i]\n",
        "            new_cost = calc_cost(new_state)\n",
        "\n",
        "            if new_cost < min_cost:\n",
        "                min_cost = new_cost\n",
        "                min_state = new_state\n",
        "\n",
        "    if min_cost < current_cost:\n",
        "        return min_state, min_cost\n",
        "    else:\n",
        "        return current_state, None\n",
        "\n",
        "def goal_test(state):\n",
        "    if calc_cost(state) == 0:\n",
        "      return True\n",
        "    else:\n",
        "      return False\n",
        "\n",
        "def main():\n",
        "    state = init()\n",
        "    while not goal_test(state):\n",
        "        state, cost = state_generation(state, calc_cost(state))\n",
        "        if cost is None:\n",
        "            print(state)\n",
        "            return\n",
        "    print(state)\n",
        "\n",
        "main()"
      ]
    }
  ]
}
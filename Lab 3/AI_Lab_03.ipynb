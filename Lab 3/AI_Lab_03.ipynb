{
  "cells": [
    {
      "cell_type": "code",
      "execution_count": null,
      "metadata": {
        "id": "Ou0cxPRnFBun"
      },
      "outputs": [],
      "source": [
        "class Graph:\n",
        "    def __init__(self):\n",
        "        self.graph = dict()\n",
        "\n",
        "    def addEdge(self, src, dst, cost):\n",
        "        if src not in self.graph:\n",
        "            self.graph[src] = []\n",
        "        if dst not in self.graph:\n",
        "            self.graph[dst] = []\n",
        "\n",
        "        self.graph[src].append((dst, int(cost)))\n",
        "        self.graph[dst].append((src, int(cost)))\n",
        "\n",
        "    def DFS(self,src,visited,traversal):\n",
        "      if src not in visited:\n",
        "        traversal.append(src)\n",
        "        visited.add(src)\n",
        "\n",
        "        for dst,cost in self.graph[src]:\n",
        "          self.DFS(dst,visited,traversal)\n",
        "      return traversal\n",
        "\n",
        "    def BFS(self,src):\n",
        "      visited = set()\n",
        "      traversal = list()\n",
        "      queue = list()\n",
        "\n",
        "      queue.append(src)\n",
        "      visited.add(src)\n",
        "\n",
        "      while queue:\n",
        "        dst = queue.pop(0)\n",
        "        traversal.append(dst)\n",
        "\n",
        "\n",
        "        for v,cost in self.graph[dst]:\n",
        "          if v not in visited:\n",
        "            visited.add(v)\n",
        "            queue.append(v)\n",
        "      return traversal\n",
        "\n",
        "    def printGraph(self):\n",
        "        for source, destination in self.graph.items():\n",
        "            print(f\"{source}-->{destination}\")\n"
      ]
    },
    {
      "cell_type": "markdown",
      "source": [
        "Manually add edge"
      ],
      "metadata": {
        "id": "PQ2sPRyOuaRy"
      }
    },
    {
      "cell_type": "code",
      "execution_count": null,
      "metadata": {
        "colab": {
          "base_uri": "https://localhost:8080/"
        },
        "id": "jlj4aujEcSGJ",
        "outputId": "06f69497-edb6-4399-a7c5-8b5ecf4be79a"
      },
      "outputs": [
        {
          "name": "stdout",
          "output_type": "stream",
          "text": [
            "A-->[('B', 6)]\n",
            "B-->[('E', 3), ('D', -2)]\n",
            "C-->[('A', 4), ('D', 5)]\n",
            "D-->[('A', 2), ('E', 1)]\n",
            "E-->[]\n"
          ]
        }
      ],
      "source": [
        "g = Graph()\n",
        "\n",
        "g.addEdge('A','B',6)\n",
        "g.addEdge('C','A',4)\n",
        "g.addEdge('C','D',5)\n",
        "g.addEdge('D','A',2)\n",
        "g.addEdge('B','E',3)\n",
        "g.addEdge('B','D',-2)\n",
        "g.addEdge('D','E',1)\n",
        "g.printGraph()"
      ]
    },
    {
      "cell_type": "markdown",
      "source": [
        "add edge using input() function"
      ],
      "metadata": {
        "id": "uSrIpy4_ufZi"
      }
    },
    {
      "cell_type": "code",
      "execution_count": null,
      "metadata": {
        "colab": {
          "base_uri": "https://localhost:8080/"
        },
        "id": "v3ifmYMWWpYD",
        "outputId": "c3c1fd98-12c7-4530-8e80-eab50db7a710"
      },
      "outputs": [
        {
          "name": "stdout",
          "output_type": "stream",
          "text": [
            "3 4\n",
            "1 2 7\n",
            "2 4 8\n",
            "3 1 6\n",
            "2 3 1\n",
            "1-->[('2', 7)]\n",
            "2-->[('4', 8), ('3', 1)]\n",
            "4-->[]\n",
            "3-->[('1', 6)]\n"
          ]
        }
      ],
      "source": [
        "g = Graph()\n",
        "\n",
        "nodes, edges = input().split()\n",
        "\n",
        "for _ in range(int(edges)):\n",
        "  node1, node2, cost = input().split()\n",
        "  g.addEdge(node1, node2, cost)\n",
        "\n",
        "g.printGraph()"
      ]
    },
    {
      "cell_type": "markdown",
      "source": [
        "add edge using file"
      ],
      "metadata": {
        "id": "H5L_7BuLujcB"
      }
    },
    {
      "cell_type": "code",
      "execution_count": null,
      "metadata": {
        "colab": {
          "base_uri": "https://localhost:8080/"
        },
        "id": "c2LvL_gzW7EB",
        "outputId": "23ca3623-c6d4-4509-b404-5f46867eb7d3"
      },
      "outputs": [
        {
          "output_type": "stream",
          "name": "stdout",
          "text": [
            "A-->[('B', 6), ('C', 4), ('D', 2)]\n",
            "B-->[('A', 6), ('D', -2), ('E', 3)]\n",
            "C-->[('A', 4), ('D', 5)]\n",
            "D-->[('C', 5), ('A', 2), ('B', -2), ('E', 1)]\n",
            "E-->[('D', 1), ('B', 3)]\n"
          ]
        }
      ],
      "source": [
        "g = Graph()\n",
        "\n",
        "with open(\"input.txt\") as f:\n",
        "  lines = f.readlines()\n",
        "\n",
        "nodes, edges = lines[0].split()\n",
        "\n",
        "    # first line is number of nodes and edges,\n",
        "    # pair of nodes starts from second line\n",
        "for i in range(1, len(lines)):\n",
        "  node1, node2, cost = lines[i].split()\n",
        "  g.addEdge(node1, node2, int(cost))\n",
        "\n",
        "g.printGraph()"
      ]
    },
    {
      "cell_type": "code",
      "source": [
        "visited = set()\n",
        "traversal = list()\n",
        "traverse = g.DFS('A',visited,traversal)\n",
        "print(traverse)"
      ],
      "metadata": {
        "id": "b1KISilOoUj7",
        "colab": {
          "base_uri": "https://localhost:8080/"
        },
        "outputId": "ebcd3545-5a57-4972-e232-a09b9a72c982"
      },
      "execution_count": null,
      "outputs": [
        {
          "output_type": "stream",
          "name": "stdout",
          "text": [
            "['A', 'B', 'D', 'E']\n"
          ]
        }
      ]
    },
    {
      "cell_type": "code",
      "source": [
        "print(g.BFS('A'))"
      ],
      "metadata": {
        "colab": {
          "base_uri": "https://localhost:8080/"
        },
        "id": "mH2YKmwNzuPY",
        "outputId": "b5e8b9b2-521d-4d83-f41c-65c23eedf870"
      },
      "execution_count": null,
      "outputs": [
        {
          "output_type": "stream",
          "name": "stdout",
          "text": [
            "['A', 'B', 'C', 'D', 'E']\n"
          ]
        }
      ]
    },
    {
      "cell_type": "code",
      "source": [],
      "metadata": {
        "id": "YtwRVC1q1CgF"
      },
      "execution_count": null,
      "outputs": []
    }
  ],
  "metadata": {
    "colab": {
      "provenance": []
    },
    "kernelspec": {
      "display_name": "Python 3",
      "name": "python3"
    },
    "language_info": {
      "name": "python"
    }
  },
  "nbformat": 4,
  "nbformat_minor": 0
}